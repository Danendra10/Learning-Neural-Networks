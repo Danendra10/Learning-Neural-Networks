{
  "nbformat": 4,
  "nbformat_minor": 0,
  "metadata": {
    "colab": {
      "provenance": [],
      "collapsed_sections": [],
      "authorship_tag": "ABX9TyM9XRBzISiB+ovmjvHbVn8G",
      "include_colab_link": true
    },
    "kernelspec": {
      "name": "python3",
      "display_name": "Python 3"
    },
    "language_info": {
      "name": "python"
    }
  },
  "cells": [
    {
      "cell_type": "markdown",
      "metadata": {
        "id": "view-in-github",
        "colab_type": "text"
      },
      "source": [
        "<a href=\"https://colab.research.google.com/github/Danendra10/Learning-Neural-Networks/blob/main/XOR_NN_Project.ipynb\" target=\"_parent\"><img src=\"https://colab.research.google.com/assets/colab-badge.svg\" alt=\"Open In Colab\"/></a>"
      ]
    },
    {
      "cell_type": "code",
      "source": [
        "%matplotlib inline\n",
        "from matplotlib import pyplot as plt\n",
        "import numpy as np"
      ],
      "metadata": {
        "id": "PWcYuBIhsuRn"
      },
      "execution_count": null,
      "outputs": []
    },
    {
      "cell_type": "code",
      "source": [
        "# each point is length, width, type (0, 1)\n",
        "\n",
        "data = [\n",
        "\t\t[0,0,0],\n",
        "\t\t[0,1,1],\n",
        "\t\t[1,0,1],\n",
        "\t\t[1,1,0]\n",
        "]\n",
        "mystery_flower = [1,1]\n",
        "\n",
        "data2 = [\n",
        "    [0,0,0,0,0],\n",
        "\t\t[0,0,0,1,1],\n",
        "\t\t[0,0,1,0,1],\n",
        "\t\t[0,0,1,1,1],\n",
        "\t\t[0,1,0,0,1],\n",
        "\t\t[0,1,0,1,1],\n",
        "\t\t[0,1,1,1,1],\n",
        "\t\t[1,0,0,0,1],\n",
        "\t\t[1,0,0,1,1],\n",
        "\t\t[1,0,1,0,1],\n",
        "\t\t[1,0,1,1,1],\n",
        "\t\t[1,1,0,0,1],\n",
        "\t\t[1,1,0,1,1],\n",
        "\t\t[1,1,0,0,1],\n",
        "\t\t[1,1,0,1,1],\n",
        "\t\t[1,1,1,0,1],\n",
        "\t\t[1,1,1,1,0],\n",
        "]\n",
        "data_test = [\n",
        "    0,0,0,0\n",
        "]\n",
        "\n",
        "data_kamera = [\n",
        "    [0, 92, 0, 60],\n",
        "    [0,131,0,110],\n",
        "    [0,149,0,160],\n",
        "    \n",
        "]"
      ],
      "metadata": {
        "id": "gDzrVINCsygW"
      },
      "execution_count": null,
      "outputs": []
    },
    {
      "cell_type": "code",
      "execution_count": null,
      "metadata": {
        "id": "H4KF6zCqiWh6"
      },
      "outputs": [],
      "source": [
        "def sigmoid(x):\n",
        "    return 1/(1+np.exp(-x))\n",
        "\n",
        "def sigmoid_p(x):\n",
        "    return sigmoid(x) * (1-sigmoid(x))"
      ]
    },
    {
      "cell_type": "code",
      "source": [
        "X = np.linspace(-5, 5, 100)"
      ],
      "metadata": {
        "id": "BcUjzzeus_Si"
      },
      "execution_count": null,
      "outputs": []
    },
    {
      "cell_type": "code",
      "source": [
        "tri = np.random.randint(len(data2))\n",
        "point = data2[tri]\n",
        "\n",
        "print(point)"
      ],
      "metadata": {
        "colab": {
          "base_uri": "https://localhost:8080/"
        },
        "id": "NfHLZbtovTKy",
        "outputId": "355f3a04-7755-49e2-91eb-cb3b5c2ea61e"
      },
      "execution_count": null,
      "outputs": [
        {
          "output_type": "stream",
          "name": "stdout",
          "text": [
            "[1, 1, 0, 0, 1]\n"
          ]
        }
      ]
    },
    {
      "cell_type": "code",
      "source": [
        "def train():\n",
        "  w1 = np.random.randn()\n",
        "  w2 = np.random.randn()\n",
        "  w3 = np.random.randn()\n",
        "  w4 = np.random.randn()\n",
        "  b = np.random.randn()\n",
        "\n",
        "  iterations = 100000\n",
        "  learning_rate = 1\n",
        "\n",
        "  costs = []\n",
        "\n",
        "  for i in range(iterations):\n",
        "        # get a random point\n",
        "        ri = np.random.randint(len(data2))\n",
        "        point = data2[ri]\n",
        "        \n",
        "        z = point[0] * w1 + point[1] * w2 + point[2] * w3 + point[3] * w4 + b\n",
        "        pred = sigmoid(z) # networks prediction\n",
        "        \n",
        "        target = point[4]\n",
        "        \n",
        "        # cost for current random point\n",
        "        cost = np.square(pred - target)\n",
        "        \n",
        "        # print the cost over all data points every 1k iters\n",
        "        if i % 100 == 0:\n",
        "            c = 0\n",
        "            for j in range(len(data2)):\n",
        "                p = data2[j]\n",
        "                p_pred = sigmoid(w1 * p[0] + w2 * p[1] + w3 * p[2] + w4 * p[3] + b)\n",
        "                c += np.square(p_pred - p[4])\n",
        "            costs.append(c)\n",
        "        \n",
        "        dcost_dpred = 2 * (pred - target)\n",
        "        dpred_dz = sigmoid_p(z)\n",
        "        \n",
        "        dz_dw1 = point[0]\n",
        "        dz_dw2 = point[1]\n",
        "        dz_dw3 = point[2]\n",
        "        dz_dw4 = point[3]\n",
        "        dz_db = 1\n",
        "        \n",
        "        dcost_dz = dcost_dpred * dpred_dz\n",
        "        \n",
        "        dcost_dw1 = dcost_dz * dz_dw1\n",
        "        dcost_dw2 = dcost_dz * dz_dw2\n",
        "        dcost_dw3 = dcost_dz * dz_dw3\n",
        "        dcost_dw4 = dcost_dz * dz_dw4\n",
        "        dcost_db = dcost_dz * dz_db\n",
        "        \n",
        "        w1 = w1 - learning_rate * dcost_dw1\n",
        "        w2 = w2 - learning_rate * dcost_dw2\n",
        "        w3 = w3 - learning_rate * dcost_dw3\n",
        "        w4 = w4 - learning_rate * dcost_dw4\n",
        "        b = b - learning_rate * dcost_db\n",
        "        return costs, w1, w2, w3, w4, b\n",
        "\n",
        "costs, w1, w2, w3, w4, b = train()\n",
        "z = w1 * data_test[0] + w2 * data_test[1]  + w3 * data_test[2]  + w4 * data_test[3] + b\n",
        "pred = sigmoid(z)\n",
        "\n",
        "if pred < 0.5:\n",
        "  print(\"0\")\n",
        "elif pred >= 0.5:\n",
        "  print(\"1\")\n",
        "\n",
        "\n",
        "print(pred)"
      ],
      "metadata": {
        "colab": {
          "base_uri": "https://localhost:8080/"
        },
        "id": "v4auFKg6tBIN",
        "outputId": "3b5ed5c6-a01e-4958-c744-0bcd36eedfb0"
      },
      "execution_count": null,
      "outputs": [
        {
          "output_type": "stream",
          "name": "stdout",
          "text": [
            "0\n",
            "0.36187365727989634\n"
          ]
        }
      ]
    }
  ]
}