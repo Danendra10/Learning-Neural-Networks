{
  "nbformat": 4,
  "nbformat_minor": 0,
  "metadata": {
    "colab": {
      "provenance": [],
      "collapsed_sections": [],
      "authorship_tag": "ABX9TyPS419X06UysqRcZN1jZLbh",
      "include_colab_link": true
    },
    "kernelspec": {
      "name": "python3",
      "display_name": "Python 3"
    },
    "language_info": {
      "name": "python"
    }
  },
  "cells": [
    {
      "cell_type": "markdown",
      "metadata": {
        "id": "view-in-github",
        "colab_type": "text"
      },
      "source": [
        "<a href=\"https://colab.research.google.com/github/Danendra10/Learning-Neural-Networks/blob/main/PyTorch_Learning.ipynb\" target=\"_parent\"><img src=\"https://colab.research.google.com/assets/colab-badge.svg\" alt=\"Open In Colab\"/></a>"
      ]
    },
    {
      "cell_type": "code",
      "execution_count": 12,
      "metadata": {
        "id": "wvFwHAdkr09G"
      },
      "outputs": [],
      "source": [
        "import numpy as np\n",
        "import torch\n",
        "import torch.nn as nn\n",
        "import torch.optim as optim\n",
        "import torch.autograd as autog"
      ]
    },
    {
      "cell_type": "code",
      "source": [
        "data_x = np.array([[0, 0], [0, 1], [1, 0], [1, 1]])\n",
        "data_y = np.array([[0, 0, 0, 1]]).T\n",
        "data_x = autog.Variable(torch.FloatTensor(data_x))\n",
        "data_y = autog.Variable(torch.FloatTensor(data_y), requires_grad=False)\n",
        "\n",
        "in_dim = 2\n",
        "out_dim = 1\n",
        "epochs = 15000\n",
        "epoch_print = epochs / 5\n",
        "l_rate = 0.001"
      ],
      "metadata": {
        "id": "ylpU3upFv7BJ"
      },
      "execution_count": 13,
      "outputs": []
    },
    {
      "cell_type": "code",
      "source": [
        "\n",
        "class NeuralNet(nn.Module):\n",
        "    def __init__(self, input_size, output_size):\n",
        "        super(NeuralNet, self).__init__()\n",
        "        self.layer1 = nn.Linear(input_size, 6)\n",
        "        self.inter = nn.Linear(6, 6)\n",
        "        self.logsig = nn.LogSigmoid()\n",
        "        self.layer2 = nn.Linear(6, output_size)\n",
        "\n",
        "\n",
        "    def forward(self, x):\n",
        "        # You may want to use torch.nn.functional.sigmoid activation\n",
        "        x = self.layer1(x)\n",
        "        x = self.logsig(x)\n",
        "        x = self.inter(x)\n",
        "        x = self.inter(x)\n",
        "        x = self.inter(x)\n",
        "        x = self.inter(x)\n",
        "        x = self.layer2(x)\n",
        "        return x\n",
        "\n"
      ],
      "metadata": {
        "id": "dKqjyiJpv8Wb"
      },
      "execution_count": 34,
      "outputs": []
    },
    {
      "cell_type": "code",
      "source": [
        "model = NeuralNet(in_dim, out_dim)\n",
        "criterion = nn.BCEWithLogitsLoss()\n",
        "optimizer = optim.Adam(model.parameters(), lr=l_rate)\n",
        "\n"
      ],
      "metadata": {
        "id": "jrbfOE-3v9Wh"
      },
      "execution_count": 35,
      "outputs": []
    },
    {
      "cell_type": "code",
      "source": [
        "for epoch in range(epochs):\n",
        "    optimizer.zero_grad()\n",
        "    pred = model(data_x)\n",
        "    loss = criterion(pred, data_y)\n",
        "    loss.backward()\n",
        "    optimizer.step()\n",
        "    if (epoch + 1) % epoch_print == 0:\n",
        "        print(\"Epoch %d  Loss %f\" %(epoch + 1, loss.item()))"
      ],
      "metadata": {
        "colab": {
          "base_uri": "https://localhost:8080/"
        },
        "id": "5kufKwYUv-TB",
        "outputId": "08049122-0b1f-4a36-e81e-16907e92938e"
      },
      "execution_count": 36,
      "outputs": [
        {
          "output_type": "stream",
          "name": "stdout",
          "text": [
            "Epoch 3000  Loss 0.000012\n",
            "Epoch 6000  Loss 0.000001\n",
            "Epoch 9000  Loss 0.000000\n",
            "Epoch 12000  Loss 0.000000\n",
            "Epoch 15000  Loss 0.000000\n"
          ]
        }
      ]
    },
    {
      "cell_type": "code",
      "source": [
        "for x, y in zip(data_x, data_y):\n",
        "    pred = model(x)\n",
        "    # See int(pred > 0), that's the only change\n",
        "    print(\"Input\", list(map(int, x)), \"Pred\", int(pred > 0), \"Output\", int(y))\n"
      ],
      "metadata": {
        "colab": {
          "base_uri": "https://localhost:8080/"
        },
        "id": "SsWVX8bhwACA",
        "outputId": "27814ed1-e368-4567-c48e-81312f3daf51"
      },
      "execution_count": 32,
      "outputs": [
        {
          "output_type": "stream",
          "name": "stdout",
          "text": [
            "Input [0, 0] Pred 0 Output 0\n",
            "Input [0, 1] Pred 0 Output 0\n",
            "Input [1, 0] Pred 0 Output 0\n",
            "Input [1, 1] Pred 1 Output 1\n"
          ]
        }
      ]
    },
    {
      "cell_type": "code",
      "source": [
        "for layer in model.children():\n",
        "    if isinstance(layer, nn.Linear):\n",
        "        print(layer.state_dict()['weight'])\n",
        "        print(layer.state_dict()['bias'])"
      ],
      "metadata": {
        "colab": {
          "base_uri": "https://localhost:8080/"
        },
        "id": "ImjZ5fx0wfnX",
        "outputId": "7028c882-5b0c-417f-dcb6-90e28916bda6"
      },
      "execution_count": 33,
      "outputs": [
        {
          "output_type": "stream",
          "name": "stdout",
          "text": [
            "tensor([[-1.2211,  3.4053],\n",
            "        [-1.4559,  3.5618],\n",
            "        [-4.2792, -3.0867],\n",
            "        [-2.6666, -3.2171],\n",
            "        [ 3.8357, -1.6571],\n",
            "        [ 3.1326, -0.8114]])\n",
            "tensor([-2.4591, -2.4458,  2.9049,  1.9091, -2.4885, -2.6294])\n",
            "tensor([[ 2.2481,  2.3403, -3.0034, -2.0605,  2.1918,  1.9996]])\n",
            "tensor([-1.2701])\n"
          ]
        }
      ]
    },
    {
      "cell_type": "code",
      "source": [],
      "metadata": {
        "id": "dvuNkYrYxDsL"
      },
      "execution_count": null,
      "outputs": []
    }
  ]
}